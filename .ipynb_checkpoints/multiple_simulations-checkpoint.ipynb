{
 "cells": [
  {
   "cell_type": "code",
   "execution_count": 1,
   "id": "4e2ec583",
   "metadata": {},
   "outputs": [],
   "source": [
    "from Class import *\n",
    "import numpy as np\n",
    "import time\n",
    "import os"
   ]
  },
  {
   "cell_type": "code",
   "execution_count": 2,
   "id": "44a66f5c",
   "metadata": {},
   "outputs": [],
   "source": [
    "P = np.arange(100, 1000, 50)\n",
    "\n",
    "V = [0.001, 0.002, 0.003, 0.004, 0.005, 0.006, 0.007, 0.008, 0.009]"
   ]
  },
  {
   "cell_type": "code",
   "execution_count": 3,
   "id": "74d430d1",
   "metadata": {},
   "outputs": [],
   "source": [
    "layer = geometry(L2= 0.001, L1 = 0.001, h0 = 0.0002)\n",
    "#layer.show()\n",
    "sp = space(x = 0.0025, y = 0.002, z = 0.001, dx = 0.00005, geom = layer)\n",
    "#sp.show()"
   ]
  },
  {
   "cell_type": "code",
   "execution_count": 8,
   "id": "71d259aa",
   "metadata": {
    "scrolled": false
   },
   "outputs": [
    {
     "name": "stdout",
     "output_type": "stream",
     "text": [
      "22_12_08_study3/P900_v0.007\n",
      "Calculation starts\n",
      "Calculation ends, time : 0.014720678329467773s\n",
      "Writing blocs and simulation.xml files\n",
      "Loading xml file to VXI - Expected time : 610s\n",
      "Start all calculations\n",
      "VXI launched with success\n",
      "Saving vxi simulation to 22_12_08_study3/P900_v0.007 folder\n",
      "Results saved\n",
      "Time spent : 1680.06s\n",
      "________________________________\n",
      "\n"
     ]
    }
   ],
   "source": [
    "study_ref = '22_11_14_study2/'\n",
    "study = '22_12_08_study3/'\n",
    "\n",
    "#os.mkdir(study)\n",
    "for pi in P:\n",
    "    for vi in V:\n",
    "        name_ref = 'P'+str(pi)+'_v'+str(np.round(vi,3))\n",
    "        name = study + 'P'+str(pi)+'_v'+str(np.round(vi,3))\n",
    "        print(name)\n",
    "        li = laser(rb = 0.0007, beta = 0.449, Pn = pi)\n",
    "        #constants = [K, Cp, rho, V, tol_z]\n",
    "        #constants = [W.m.K-1, J.kg-1.K, kg.m^-3, m.s-1, m]\n",
    "        constants = [20, 500, 7800, np.round(vi,3),0.00001]\n",
    "        start_time = time.time()\n",
    "        print('Calculation starts')\n",
    "        T = temperature(li, layer, sp, constants)\n",
    "        T.main()\n",
    "        T.save(name)"
   ]
  },
  {
   "cell_type": "code",
   "execution_count": null,
   "id": "9ae3d987",
   "metadata": {},
   "outputs": [],
   "source": []
  }
 ],
 "metadata": {
  "kernelspec": {
   "display_name": "Python 3 (ipykernel)",
   "language": "python",
   "name": "python3"
  },
  "language_info": {
   "codemirror_mode": {
    "name": "ipython",
    "version": 3
   },
   "file_extension": ".py",
   "mimetype": "text/x-python",
   "name": "python",
   "nbconvert_exporter": "python",
   "pygments_lexer": "ipython3",
   "version": "3.9.7"
  }
 },
 "nbformat": 4,
 "nbformat_minor": 5
}
