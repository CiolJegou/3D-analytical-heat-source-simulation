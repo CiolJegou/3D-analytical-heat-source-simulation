{
 "cells": [
  {
   "cell_type": "code",
   "execution_count": 1,
   "id": "4e2ec583",
   "metadata": {},
   "outputs": [],
   "source": [
    "from Class import *\n",
    "import numpy as np\n",
    "import time\n",
    "import os"
   ]
  },
  {
   "cell_type": "code",
   "execution_count": 2,
   "id": "44a66f5c",
   "metadata": {},
   "outputs": [],
   "source": [
    "P = np.arange(100, 1000, 50)\n",
    "\n",
    "V = [0.001, 0.002, 0.003, 0.004, 0.005, 0.006, 0.007, 0.008, 0.009]"
   ]
  },
  {
   "cell_type": "code",
   "execution_count": 6,
   "id": "74d430d1",
   "metadata": {},
   "outputs": [],
   "source": [
    "layer = geometry(L2= 0.001, L1 = 0.001, h0 = 0.0002)\n",
    "#layer.show()\n",
    "sp = space(x = 0.0025, y = 0.002, z = 0.001, dx = 0.00005, geom = layer)\n",
    "#sp.show()"
   ]
  },
  {
   "cell_type": "code",
   "execution_count": 7,
   "id": "71d259aa",
   "metadata": {
    "scrolled": false
   },
   "outputs": [
    {
     "name": "stdout",
     "output_type": "stream",
     "text": [
      "Results/study_1/P500_v0.003\n",
      "Calculation starts\n",
      "Step 1: Computation of the temperature (self.T)\n",
      "avancement 10%\n",
      "avancement 20%\n",
      "avancement 30%\n",
      "avancement 40%\n",
      "avancement 50%\n",
      "avancement 60%\n",
      "avancement 70%\n",
      "avancement 80%\n",
      "avancement 90%\n",
      "Step 2: Get upside view and area (self.camera)\n",
      "Aire à 1673 K : 432 px = 1.08 mm²\n",
      "Step 3: Get density (self.T_rho)\n",
      "You can get help with (self.help_rho / self.show_rho\n",
      "All done, don't forget to SAVE\n",
      "T.to_VTK(name) ; T.save(name)\n"
     ]
    }
   ],
   "source": [
    "study = 'Results/study_1/'\n",
    "os.mkdir(study)\n",
    "\n",
    "#To speed up the loop for the demonstration\n",
    "P = [500]\n",
    "V = [0.003]\n",
    "\n",
    "for pi in P:\n",
    "    for vi in V:\n",
    "        name_ref = 'P'+str(pi)+'_v'+str(np.round(vi,3))\n",
    "        name = study + 'P'+str(pi)+'_v'+str(np.round(vi,3))\n",
    "        print(name)\n",
    "        li = laser(rb = 0.0007, beta = 0.449, Pn = pi)\n",
    "        #constants = [K, Cp, rho, V, tol_z]\n",
    "        #constants = [W.m.K-1, J.kg-1.K, kg.m^-3, m.s-1, m]\n",
    "        constants = [20, 500, 7800, np.round(vi,3),0.00001]\n",
    "        start_time = time.time()\n",
    "        print('Calculation starts')\n",
    "        T = temperature(li, layer, sp, constants)\n",
    "        T.main()\n",
    "        T.save(name)"
   ]
  },
  {
   "cell_type": "code",
   "execution_count": null,
   "id": "9ae3d987",
   "metadata": {},
   "outputs": [],
   "source": []
  }
 ],
 "metadata": {
  "kernelspec": {
   "display_name": "Python 3 (ipykernel)",
   "language": "python",
   "name": "python3"
  },
  "language_info": {
   "codemirror_mode": {
    "name": "ipython",
    "version": 3
   },
   "file_extension": ".py",
   "mimetype": "text/x-python",
   "name": "python",
   "nbconvert_exporter": "python",
   "pygments_lexer": "ipython3",
   "version": "3.9.7"
  }
 },
 "nbformat": 4,
 "nbformat_minor": 5
}
